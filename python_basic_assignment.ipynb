{
  "nbformat": 4,
  "nbformat_minor": 0,
  "metadata": {
    "colab": {
      "provenance": []
    },
    "kernelspec": {
      "name": "python3",
      "display_name": "Python 3"
    },
    "language_info": {
      "name": "python"
    }
  },
  "cells": [
    {
      "cell_type": "markdown",
      "source": [
        "1. what is python,and why is it important?\n",
        "-> python is a high-level, interpreted programming language know fo      readability and versatility.\n",
        "-> python is designed to be easy to understand and write .\n",
        "-> python is open-sourse and has a large community that contributes to its extensive libraries and frameworks.\n",
        "\n",
        "     Importnce of python\n",
        " * python has clear,english like syntax that make it easy to write and read the code.\n",
        " * python code run line by line .\n",
        " * suppoorts oop principles like classes and inheritance for modules,reusable code.python is freely available for use.\n",
        "\n",
        "\n",
        "\n",
        "     "
      ],
      "metadata": {
        "id": "TObE6si4zBDP"
      }
    },
    {
      "cell_type": "markdown",
      "source": [
        "2. what is an interpreted in python?\n",
        "  * \"interpreted\" means that the code is executed line by line by an interpreter program, rather than being compiled into machine code beforehand. this makes python more flexible and easier to debug, as you con run and test small parts of ur code as you write it."
      ],
      "metadata": {
        "id": "eFlyBjyN6ToJ"
      }
    },
    {
      "cell_type": "markdown",
      "source": [
        "3. what are pre-define keywords in python ?\n",
        "   * pre-define keywords that holds a special meaning and have specific purposein python.\n",
        "   * there meaning does not change.\n",
        "   * for.eg. -: while, break, print, import."
      ],
      "metadata": {
        "id": "elJ8xhXs9Fj2"
      }
    },
    {
      "cell_type": "markdown",
      "source": [
        "4. can keywords be used as variables names ?\n",
        "   * no, you can not use keywords as variabl name as python.\n",
        "   * because keywords are reserved words that have special meaning in the language syntax. using them as variable names would confuse the interpreter."
      ],
      "metadata": {
        "id": "Em1qV-ZT-0M7"
      }
    },
    {
      "cell_type": "markdown",
      "source": [
        "5. what is mutability in python ?\n",
        "   * mutability means change.\n",
        "   * mutability refers to whether an object's state or value can be changed after it's created.\n",
        "   * examples:- list, dict, set."
      ],
      "metadata": {
        "id": "UbW6qVnnAVce"
      }
    },
    {
      "cell_type": "markdown",
      "source": [
        "6. why are lists mutable, but tuples are immutables ?           \n",
        "   * Lists\n",
        "   > lists are designed for dynamic, flexible collection where you might add, remove.\n",
        "   > lists allocate extra space to allow growth and changes without frequent realloation, making element modification efficient.\n",
        "   > lists are created with [] are visually suggest changeable collections.\n",
        "   * Tuples\n",
        "   > tuples are meant for fixed, unchangeable collection.\n",
        "   > tuples can be hashable meaning they can be used as dictionary keys.\n",
        "   > tuples are created with () and convey the idea of a fixed package of values.\n",
        "\n",
        "\n"
      ],
      "metadata": {
        "id": "Bnyk46hdCAV5"
      }
    },
    {
      "cell_type": "markdown",
      "source": [
        "7.what is te difference between\"==\" and \"is\" operators in python ?\n",
        "  * \"==\"\n",
        "  * it is a equality operator.\n",
        "  * check if values are equal.\n",
        "  * returns tre if the value look the same and false if the values are different.\n",
        "  * compares the contents of two objects.\n",
        "  * \"is\"\n",
        "  * it is a identiy operator.\n",
        "  * check if two variables point to the same object in memoery.\n",
        "  * compare the identity , not the value.\n",
        "  * returns true if both refer to the exact same object."
      ],
      "metadata": {
        "id": "j0A3tFkIH_cL"
      }
    },
    {
      "cell_type": "markdown",
      "metadata": {
        "id": "6886a072"
      },
      "source": [
        "8. what are logical operators in python ?\n",
        "* Logical operators are used to combine conditional statements.\n",
        "* The main logical operators in Python are:\n",
        "    * `and`: Returns True if both statements are true.\n",
        "    * `or`: Returns True if at least one of the statements is true.\n",
        "    * `not`: Reverses the result, returns False if the result is true."
      ]
    },
    {
      "cell_type": "markdown",
      "source": [
        "9. what is type casting in python ?\n",
        "   * the process of changing the data type of a value or object."
      ],
      "metadata": {
        "id": "vNvyCM4mP1cW"
      }
    },
    {
      "cell_type": "markdown",
      "metadata": {
        "id": "144b179c"
      },
      "source": [
        "10. what is difference between implicit and explicit type casting?\n",
        "* **Implicit Type Casting (Coercion):**\n",
        "    * Python automatically converts one data type to another without any user intervention during an operation.\n",
        "    * This usually happens when performing operations between different data types where one can be safely promoted to the other without loss of data (e.g., adding an integer to a float).\n",
        "    * Example:"
      ]
    },
    {
      "cell_type": "markdown",
      "metadata": {
        "id": "c6d63e71"
      },
      "source": [
        "* **Explicit Type Casting (Type Conversion):**\n",
        "    * The user explicitly converts a data type to another using built-in functions like `int()`, `float()`, `str()`, etc.\n",
        "    * This is done when Python cannot automatically convert the types or when you want to force a specific type conversion.\n",
        "    * Example:"
      ]
    },
    {
      "cell_type": "markdown",
      "metadata": {
        "id": "80f47e05"
      },
      "source": [
        "11. what is the purpose of conditin statement in python?                        * Conditional statements in Python are used to                             execute different blocks of code based on whether a specified condition is true or false.They allow your program to make decisions and perform actions accordingly.\n",
        "\n",
        "The main types of conditional statements in Python are:\n",
        "\n",
        "*   **`if` statement:** Executes a block of code if a condition is true.\n",
        "*   **`elif` statement:** (short for \"else if\") Checks another condition if the previous `if` or `elif` conditions were false.\n",
        "*   **`else` statement:** Executes a block of code if all previous `if` and `elif` conditions were false."
      ]
    },
    {
      "cell_type": "markdown",
      "metadata": {
        "id": "330d0dad"
      },
      "source": [
        "12. how does elif statement work?\n",
        "* The `elif` statement in Python is short for \"else if\". It is used in conjunction with `if` and `else` statements to check multiple conditions sequentially.\n",
        "* The `elif` block is executed only if the preceding `if` condition (and any preceding `elif` conditions) are false, and the condition specified in the `elif` statement itself is true.\n",
        "* You can have multiple `elif` statements after an `if` statement"
      ]
    },
    {
      "cell_type": "markdown",
      "source": [
        "13. what is the difference between for and while loops?\n",
        "    * for loop\n",
        "    * used for iterating over a sequence (like a list, tuple, string and range) or other iterable objects.\n",
        "    * the loop autimaticalt handels the ireration over the elements of the sequence\n",
        "    * while loop\n",
        "    * it repratedely execute a block of code untill a condition is met\n",
        "    * the no. of iterations is not necessarialy known beforehand; it depend on when the condition is false.\n",
        "  \n"
      ],
      "metadata": {
        "id": "vEtvi3G0XYi2"
      }
    },
    {
      "cell_type": "markdown",
      "source": [
        "14."
      ],
      "metadata": {
        "id": "jcvhWGqRZxBq"
      }
    },
    {
      "cell_type": "markdown",
      "metadata": {
        "id": "d3a62aad"
      },
      "source": [
        "14. describe a scenario where a while loop is more suitable then a for loop?    \n",
        "*A `while` loop is generally more suitable than a `for` loop when the number of iterations is not known in advance and the loop needs to continue as long as a certain condition is met.\n",
        "\n",
        "Here's a scenario in 2 points:\n",
        "\n",
        "*   When the number of iterations is unpredictable and depends on a condition being met (e.g., simulating rolling a die until a specific number is rolled).\n",
        "*   When you need to repeat an action until a certain state is reached, and you don't have a predefined sequence to iterate over."
      ]
    },
    {
      "cell_type": "code",
      "source": [
        "# 1. wap to print \"Hello world\"?\n",
        "print(\"Hello world\")"
      ],
      "metadata": {
        "colab": {
          "base_uri": "https://localhost:8080/"
        },
        "id": "3HhZHsVqiyer",
        "outputId": "806d4ac7-b6e1-4fd7-abdc-200406119c59"
      },
      "execution_count": null,
      "outputs": [
        {
          "output_type": "stream",
          "name": "stdout",
          "text": [
            "Hello world\n"
          ]
        }
      ]
    },
    {
      "cell_type": "code",
      "source": [
        "2.\n",
        "name = \"kiki\"\n",
        "age = 19\n",
        " print( f\"my is {name} and I am {age} years old.\")"
      ],
      "metadata": {
        "colab": {
          "base_uri": "https://localhost:8080/",
          "height": 106
        },
        "id": "C6gL4z0Kk36g",
        "outputId": "55a5209f-8cb8-4589-f54b-93383d4b35ce"
      },
      "execution_count": null,
      "outputs": [
        {
          "output_type": "error",
          "ename": "IndentationError",
          "evalue": "unexpected indent (ipython-input-3195688266.py, line 3)",
          "traceback": [
            "\u001b[0;36m  File \u001b[0;32m\"/tmp/ipython-input-3195688266.py\"\u001b[0;36m, line \u001b[0;32m3\u001b[0m\n\u001b[0;31m    print( f\"my is {name} and I am {age} years old.\")\u001b[0m\n\u001b[0m    ^\u001b[0m\n\u001b[0;31mIndentationError\u001b[0m\u001b[0;31m:\u001b[0m unexpected indent\n"
          ]
        }
      ]
    },
    {
      "cell_type": "code",
      "source": [
        "3.\n",
        "help(\"keywords\")"
      ],
      "metadata": {
        "colab": {
          "base_uri": "https://localhost:8080/"
        },
        "id": "ulk2VqFLoM3h",
        "outputId": "24ac2282-38c9-4375-f90e-dd5948d35549"
      },
      "execution_count": null,
      "outputs": [
        {
          "output_type": "stream",
          "name": "stdout",
          "text": [
            "\n",
            "Here is a list of the Python keywords.  Enter any keyword to get more help.\n",
            "\n",
            "False               class               from                or\n",
            "None                continue            global              pass\n",
            "True                def                 if                  raise\n",
            "and                 del                 import              return\n",
            "as                  elif                in                  try\n",
            "assert              else                is                  while\n",
            "async               except              lambda              with\n",
            "await               finally             nonlocal            yield\n",
            "break               for                 not                 \n",
            "\n"
          ]
        }
      ]
    },
    {
      "cell_type": "code",
      "source": [
        "4.#\n",
        "import keyword\n",
        "\n",
        "word = input(\"enter a word: \")\n",
        "if keyword.iskeyword(word):\n",
        "  print(f\"{word} is a keyword.\")\n",
        "else:\n",
        "  print(f\"{word} is not a keyword.\")"
      ],
      "metadata": {
        "id": "jzAT6M5GpAQ2",
        "colab": {
          "base_uri": "https://localhost:8080/"
        },
        "outputId": "5633f2e7-25a8-44ae-be2c-040df3c6f306"
      },
      "execution_count": null,
      "outputs": [
        {
          "output_type": "stream",
          "name": "stdout",
          "text": [
            "enter a word: else\n",
            "else is a keyword.\n"
          ]
        }
      ]
    },
    {
      "cell_type": "code",
      "source": [
        "5.#\n",
        "my_list = [1,2,3]\n",
        "my_tuple = (1,2,3)\n",
        "my_list[0] = 10 #work\n",
        "print(\"updated list:\", my_list)\n",
        "try:\n",
        "  my_tuple[0] = 10 #not work\n",
        "except TypeError:\n",
        " print(\"cannot modify a tuple (immutable).\")"
      ],
      "metadata": {
        "id": "MGH-tl1SAfZr",
        "colab": {
          "base_uri": "https://localhost:8080/"
        },
        "outputId": "c748f7f0-4d06-44bb-9f94-88fa02574505"
      },
      "execution_count": null,
      "outputs": [
        {
          "output_type": "stream",
          "name": "stdout",
          "text": [
            "updated list: [10, 2, 3]\n",
            "cannot modify a tuple (immutable).\n"
          ]
        }
      ]
    },
    {
      "cell_type": "code",
      "source": [
        "# 6. function to demonstrate mutable and immutable arguments.\n",
        "def modify_data(lst,num):\n",
        "  lst.append(4)\n",
        "  num += 1\n",
        "\n",
        "my_list = [1,2,3]\n",
        "my_num = 5\n",
        "\n",
        "modify_data(my_list, my_num)\n",
        "\n",
        "print(\"list after function call:\",\n",
        "my_list)\n",
        "print(\"number after function call:\",\n",
        "my_num)"
      ],
      "metadata": {
        "colab": {
          "base_uri": "https://localhost:8080/"
        },
        "id": "KbqvyrBKORJ_",
        "outputId": "b9f7ee8c-bdc2-4ee0-cda7-755a30ac8836"
      },
      "execution_count": null,
      "outputs": [
        {
          "output_type": "stream",
          "name": "stdout",
          "text": [
            "list after function call: [1, 2, 3, 4]\n",
            "number after function call: 5\n"
          ]
        }
      ]
    },
    {
      "cell_type": "code",
      "source": [
        "# 7. basic arithmetic operation\n",
        "a = int(input(\"enter first no.:\"))\n",
        "b = int(input(\"enter second no.:\"))\n",
        "print(\"addition:\", a+b)\n",
        "print(\"subtraction:\", a-b)\n",
        "print(\"multiplication:\", a*b)\n",
        "print(\"division:\", a/b)\n",
        "print"
      ],
      "metadata": {
        "colab": {
          "base_uri": "https://localhost:8080/"
        },
        "id": "dozrmfW9UYU0",
        "outputId": "c548d866-7e87-4af9-c027-4349f1f3e502"
      },
      "execution_count": null,
      "outputs": [
        {
          "output_type": "stream",
          "name": "stdout",
          "text": [
            "enter first no.:20\n",
            "enter second no.:12\n",
            "addition: 32\n",
            "subtraction: 8\n",
            "multiplication: 240\n",
            "division: 1.6666666666666667\n"
          ]
        },
        {
          "output_type": "execute_result",
          "data": {
            "text/plain": [
              "<function print(*args, sep=' ', end='\\n', file=None, flush=False)>"
            ]
          },
          "metadata": {},
          "execution_count": 9
        }
      ]
    },
    {
      "cell_type": "code",
      "source": [
        "# 8. use of logic operators\n",
        "x = 5\n",
        "print(x > 0 and x < 10) # true if both are true\n",
        "print(x < 0 or x > 10)  # true if any is true\n",
        "print(not(x > 0))       # neigation"
      ],
      "metadata": {
        "colab": {
          "base_uri": "https://localhost:8080/"
        },
        "id": "BcS-kDWQV7NZ",
        "outputId": "169d0663-c29d-4c10-f890-092e6f4155bc"
      },
      "execution_count": null,
      "outputs": [
        {
          "output_type": "stream",
          "name": "stdout",
          "text": [
            "True\n",
            "False\n",
            "False\n"
          ]
        }
      ]
    },
    {
      "cell_type": "code",
      "source": [
        "# 9. convert user input to int,float,boolean\n",
        "s = input(\"enter a value: \")\n",
        "print(int(s),float(s),bool(int(s)))"
      ],
      "metadata": {
        "colab": {
          "base_uri": "https://localhost:8080/"
        },
        "id": "c0bIpmBNXVx_",
        "outputId": "ec391a9f-47ae-49cc-f792-d5b58b9ade8e"
      },
      "execution_count": null,
      "outputs": [
        {
          "output_type": "stream",
          "name": "stdout",
          "text": [
            "enter a value: 2\n",
            "2 2.0 True\n"
          ]
        }
      ]
    },
    {
      "cell_type": "code",
      "source": [
        "# 10. type casting with the elements\n",
        "my_list = [\"1\",\"3\",\"6\"]\n",
        "int_list = [int(i) for i in my_list]\n",
        "float_list = [float(i) for i in my_list]\n",
        "bool_list = [bool(int(i)) for i in my_list]\n",
        "print(int_list)\n",
        "print(float_list)\n",
        "print(bool_list)"
      ],
      "metadata": {
        "colab": {
          "base_uri": "https://localhost:8080/"
        },
        "id": "WoLus0rQYO5W",
        "outputId": "5fb903c2-497b-48a9-cb46-788c73e5f85e"
      },
      "execution_count": null,
      "outputs": [
        {
          "output_type": "stream",
          "name": "stdout",
          "text": [
            "[1, 3, 6]\n",
            "[1.0, 3.0, 6.0]\n",
            "[True, True, True]\n"
          ]
        }
      ]
    },
    {
      "cell_type": "code",
      "source": [
        "# 11. check if a number is positive,negative,zero\n",
        "num = int(input(\"enter a number: \"))\n",
        "if num > 0:\n",
        "  print(\"positive number\")\n",
        "elif num < 0:\n",
        "  print(\"negative number\")\n",
        "else:\n",
        "  print(\"zero\")"
      ],
      "metadata": {
        "colab": {
          "base_uri": "https://localhost:8080/"
        },
        "id": "0wxp_iiRa8Ji",
        "outputId": "eb82fa28-e115-4b36-ea28-4b42bee8d5f1"
      },
      "execution_count": null,
      "outputs": [
        {
          "output_type": "stream",
          "name": "stdout",
          "text": [
            "enter a number: -12\n",
            "negative number\n"
          ]
        }
      ]
    },
    {
      "cell_type": "code",
      "source": [
        "# 12. for loop from 1 to 10\n",
        "for i in range(1,11):\n",
        " print(i, end=\" \")\n",
        "print()"
      ],
      "metadata": {
        "colab": {
          "base_uri": "https://localhost:8080/"
        },
        "id": "ZmFqeeXXbd_K",
        "outputId": "afa30777-10dc-40d9-d354-aa4e6a5f5b50"
      },
      "execution_count": null,
      "outputs": [
        {
          "output_type": "stream",
          "name": "stdout",
          "text": [
            "1 2 3 4 5 6 7 8 9 10 \n"
          ]
        }
      ]
    },
    {
      "cell_type": "code",
      "source": [
        "# 13. sum of even no.between 1 to 50\n",
        "total = sum(i for i in range(1,51) if i % 2 == 0)\n",
        "print(\"sum of even no.:\", total)"
      ],
      "metadata": {
        "colab": {
          "base_uri": "https://localhost:8080/"
        },
        "id": "ZNQrGvOddyat",
        "outputId": "8fa940f8-d3c4-4975-a5d7-1390208515b6"
      },
      "execution_count": null,
      "outputs": [
        {
          "output_type": "stream",
          "name": "stdout",
          "text": [
            "sum of even no.: 650\n"
          ]
        }
      ]
    },
    {
      "cell_type": "code",
      "source": [
        "# 14. reverse a string using while loop\n",
        "test = input(\"enter a string: \")\n",
        "rev = \"\"\n",
        "i = len(test) - 1\n",
        "while i >= 0:\n",
        "  rev += test[i]\n",
        "  i -= 1\n",
        "print(\"reversed string:\", rev)"
      ],
      "metadata": {
        "colab": {
          "base_uri": "https://localhost:8080/"
        },
        "id": "VbbknFhofIoB",
        "outputId": "96668413-0c62-4a49-ce5c-62106ec96332"
      },
      "execution_count": null,
      "outputs": [
        {
          "output_type": "stream",
          "name": "stdout",
          "text": [
            "enter a string: kanishka\n",
            "reversed string: akhsinak\n"
          ]
        }
      ]
    },
    {
      "cell_type": "code",
      "source": [
        "# 15. factorial using while loop\n",
        "n = int(input(\"enter a number:\"))\n",
        "fact = 1\n",
        "while n > 0:\n",
        "  fact *= n\n",
        "  n -= 1\n",
        "print(\"factorial:\", fact)"
      ],
      "metadata": {
        "colab": {
          "base_uri": "https://localhost:8080/"
        },
        "id": "rk9onndafqQW",
        "outputId": "97908cd6-3a96-42ef-91f3-bfdd30c72f6c"
      },
      "execution_count": null,
      "outputs": [
        {
          "output_type": "stream",
          "name": "stdout",
          "text": [
            "enter a number:5\n",
            "factorial: 120\n"
          ]
        }
      ]
    }
  ]
}